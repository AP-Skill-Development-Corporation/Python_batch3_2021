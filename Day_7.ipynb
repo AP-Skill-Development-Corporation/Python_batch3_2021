{
 "cells": [
  {
   "cell_type": "markdown",
   "metadata": {},
   "source": [
    "### Today Topics\n",
    "\n",
    "* String Methods\n",
    "#### Data Structures\n",
    "* List\n",
    "\n"
   ]
  },
  {
   "cell_type": "code",
   "execution_count": 1,
   "metadata": {},
   "outputs": [],
   "source": [
    "# prime number\n",
    "# 17 (1,2,3,...17)  # 2\n",
    "# 17  (2,3,....16)  # 0"
   ]
  },
  {
   "cell_type": "code",
   "execution_count": 9,
   "metadata": {},
   "outputs": [
    {
     "name": "stdout",
     "output_type": "stream",
     "text": [
      "enter a number100\n",
      "9\n"
     ]
    }
   ],
   "source": [
    "# factors \n",
    "# 8 (1,2,4,8)\n",
    "\n",
    "n = int(input(\"enter a number\")) # 4(1,2,4)\n",
    "c= 0 #1,2,3\n",
    "for i in range(1,n+1): #1,2,3,4\n",
    "    if n%i == 0: # 4%1==0, 4%2==0,4%3==0,4%4==0\n",
    "        #print(i)\n",
    "        c=c+1  # 1,2\n",
    "print(c)"
   ]
  },
  {
   "cell_type": "code",
   "execution_count": 11,
   "metadata": {},
   "outputs": [
    {
     "name": "stdout",
     "output_type": "stream",
     "text": [
      "enter a number6\n",
      "4\n"
     ]
    }
   ],
   "source": [
    "n = int(input(\"enter a number\")) # 6(1,2,3,6)\n",
    "c= 2\n",
    "for i in range(2,n): # 2,3,4,5\n",
    "    if n%i == 0:\n",
    "        #print(c)\n",
    "        c=c+1\n",
    "print(c)"
   ]
  },
  {
   "cell_type": "code",
   "execution_count": 3,
   "metadata": {
    "collapsed": true
   },
   "outputs": [
    {
     "name": "stdout",
     "output_type": "stream",
     "text": [
      "2.5\n",
      "2\n",
      "1\n"
     ]
    }
   ],
   "source": [
    "print(5/2)\n",
    "print(5//2)\n",
    "print(5%2)"
   ]
  },
  {
   "cell_type": "code",
   "execution_count": 12,
   "metadata": {},
   "outputs": [],
   "source": [
    "# prime number\n",
    "# 17 (1,2,3,...17)  # 2  # 1 =0 #8 =4\n",
    "# 17  (2,3,....16)  # 0"
   ]
  },
  {
   "cell_type": "code",
   "execution_count": 23,
   "metadata": {
    "collapsed": true
   },
   "outputs": [
    {
     "name": "stdout",
     "output_type": "stream",
     "text": [
      "7\n",
      "7 is prime\n"
     ]
    }
   ],
   "source": [
    "n = int(input())  #5\n",
    "c=0 #1,2,3,4\n",
    "for i in range(1,n+1): #1,2,3,4,5,6\n",
    "    if n%i ==0:  # 6%1==0 6%2==0\n",
    "        c+=1  # 1,2,3\n",
    "       # print(i)\n",
    "if c == 2:\n",
    "    print(n, \"is prime\")\n",
    "else:\n",
    "    print(n,\"is not prime\")\n"
   ]
  },
  {
   "cell_type": "code",
   "execution_count": 20,
   "metadata": {},
   "outputs": [
    {
     "name": "stdout",
     "output_type": "stream",
     "text": [
      "yes\n"
     ]
    }
   ],
   "source": [
    "c = 25\n",
    "if c==25:\n",
    "    print(\"yes\")"
   ]
  },
  {
   "cell_type": "code",
   "execution_count": 10,
   "metadata": {},
   "outputs": [
    {
     "name": "stdout",
     "output_type": "stream",
     "text": [
      "9\n",
      "9 is prime\n"
     ]
    }
   ],
   "source": [
    "n = int(input())  #9\n",
    "#c=0\n",
    "for i in range(2,n+1): #2,3,4,5,6,7,8,9\n",
    "    if n==2:\n",
    "        print(\"prime\")\n",
    "    elif n%i ==0:  # 9%2==0\n",
    "        print(n, \"is not prime\")\n",
    "        break\n",
    "    elif n%i!=0:\n",
    "        print(n, \"is prime\")\n",
    "        break"
   ]
  },
  {
   "cell_type": "code",
   "execution_count": 2,
   "metadata": {
    "collapsed": true
   },
   "outputs": [
    {
     "name": "stdout",
     "output_type": "stream",
     "text": [
      "3\n",
      "prime\n"
     ]
    }
   ],
   "source": [
    "n = int(input())  #5\n",
    "c=0\n",
    "for i in range(2,n+1): #2,3,4,5\n",
    "    if n%i ==0:\n",
    "        c+=1\n",
    "if c ==1:\n",
    "    print(\"prime\")\n",
    "else:\n",
    "    print(\"not prime\")\n"
   ]
  },
  {
   "cell_type": "code",
   "execution_count": null,
   "metadata": {},
   "outputs": [],
   "source": [
    "# 1,2,3,4,5\n",
    "for i in range(1,6):\n",
    "    if i==1:\n",
    "        print(\"no 1\")\n",
    "    elif i ==2:\n",
    "        print(\"no 2\")\n",
    "    elif i ==3:\n",
    "        print(\"no 3\")\n",
    "    elif i ==4:\n",
    "        print(\"no 4\")\n",
    "    else: \n",
    "        print(\"no 5\")\n",
    "    \n",
    "    \n",
    "\n",
    "    "
   ]
  }
 ],
 "metadata": {
  "kernelspec": {
   "display_name": "Python 3",
   "language": "python",
   "name": "python3"
  },
  "language_info": {
   "codemirror_mode": {
    "name": "ipython",
    "version": 3
   },
   "file_extension": ".py",
   "mimetype": "text/x-python",
   "name": "python",
   "nbconvert_exporter": "python",
   "pygments_lexer": "ipython3",
   "version": "3.7.3"
  }
 },
 "nbformat": 4,
 "nbformat_minor": 2
}
